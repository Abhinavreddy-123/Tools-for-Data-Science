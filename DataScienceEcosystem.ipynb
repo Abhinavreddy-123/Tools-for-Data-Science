{
 "cells": [
  {
   "cell_type": "markdown",
   "id": "0c4741cf-02cb-447f-9dba-1e42a8a04ae4",
   "metadata": {},
   "source": [
    "# Data Science Tools and Ecosystem"
   ]
  },
  {
   "cell_type": "markdown",
   "id": "7efc8fd7-976c-4e08-9fb6-6310cbbf77e0",
   "metadata": {},
   "source": [
    "### In this notebook, Data Science Tools and Ecosystem are summarized."
   ]
  },
  {
   "cell_type": "markdown",
   "id": "131f870d-540a-4bb1-a3b0-db75d8a32c84",
   "metadata": {},
   "source": [
    "### Some of the popular languages that Data Scientists use are:\n",
    "1. Python\n",
    "2. R\n",
    "3. Julia\n",
    "4. Java"
   ]
  },
  {
   "cell_type": "markdown",
   "id": "b4e02ce3-c363-4ca8-a914-0fcb889d36db",
   "metadata": {},
   "source": [
    "### Some of the commonly used libraries used by Data Scientists include:\n",
    "1. TensorFlow\n",
    "2. Scikit-Learn\n",
    "3. Cavet\n",
    "4. Plotly\n",
    "5. GGplot"
   ]
  },
  {
   "cell_type": "markdown",
   "id": "cfd58baa-1b6a-4e6d-b086-7e21521a8a39",
   "metadata": {},
   "source": [
    "|Data Science Tools|\n",
    "|------------------|\n",
    "|R-Studio|\n",
    "|VSCODE|\n",
    "|Jupyter|"
   ]
  },
  {
   "cell_type": "markdown",
   "id": "367dc07e-355f-4da3-8fac-60260f8fcec1",
   "metadata": {},
   "source": [
    "### Below are a few examples of evaluating arithmetic expressions in Python"
   ]
  },
  {
   "cell_type": "code",
   "execution_count": 13,
   "id": "e7b62dbc-6371-42d1-aaa7-b872626e39db",
   "metadata": {},
   "outputs": [
    {
     "name": "stdout",
     "output_type": "stream",
     "text": [
      "17\n"
     ]
    }
   ],
   "source": [
    "## This is a simple arithmetic expression to multiply then add integers\n",
    "print((3*4)+5)"
   ]
  },
  {
   "cell_type": "code",
   "execution_count": 15,
   "id": "47d7f3db-9b81-48b3-8385-ddbdf4e80180",
   "metadata": {},
   "outputs": [
    {
     "name": "stdout",
     "output_type": "stream",
     "text": [
      "3.3333333333333335\n"
     ]
    }
   ],
   "source": [
    "## This will convert 200 minutes to hours by dividing by 60\n",
    "minutes=200\n",
    "hours=minutes/60\n",
    "print(hours)"
   ]
  },
  {
   "cell_type": "markdown",
   "id": "2245f00c-d867-4a49-8957-d0cf831a80ca",
   "metadata": {},
   "source": [
    "**Objectives**:\n",
    "- Python for Data Science\n",
    "- R for Data Science\n",
    "- Github for managing and Tracking projects"
   ]
  },
  {
   "cell_type": "markdown",
   "id": "5bb0df68-b378-4edf-bb14-6fd4bff97118",
   "metadata": {},
   "source": [
    "## Author\n",
    "POLALA ABHINAV REDDY"
   ]
  },
  {
   "cell_type": "code",
   "execution_count": null,
   "id": "9fb6e4c2-65d3-42de-8849-567b0c444a75",
   "metadata": {},
   "outputs": [],
   "source": []
  }
 ],
 "metadata": {
  "kernelspec": {
   "display_name": "Python [conda env:base] *",
   "language": "python",
   "name": "conda-base-py"
  },
  "language_info": {
   "codemirror_mode": {
    "name": "ipython",
    "version": 3
   },
   "file_extension": ".py",
   "mimetype": "text/x-python",
   "name": "python",
   "nbconvert_exporter": "python",
   "pygments_lexer": "ipython3",
   "version": "3.12.7"
  }
 },
 "nbformat": 4,
 "nbformat_minor": 5
}
